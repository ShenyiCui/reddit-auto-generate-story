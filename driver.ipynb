{
 "cells": [
  {
   "cell_type": "markdown",
   "metadata": {},
   "source": [
    "# Reddit Stories Auto Generator\n",
    "\n",
    "Use this script to generate stories from Reddit posts. The script will scrape the top posts from a subreddit and generate a story based on the top posts.\n",
    "\n",
    "### Step 1: Download Dependencies\n",
    "```bash\n",
    "pip3 install -r requirements.txt\n",
    "```\n",
    "\n",
    "### Step 2: Download ollama and fonts\n",
    "1. Follow the instructions after downloading the ollama model from [here](https://ollama.com/download)\n",
    "2. Go into the fonts folder and double click on the font files to install them."
   ]
  },
  {
   "cell_type": "markdown",
   "metadata": {},
   "source": [
    "### Step 3: Run Scripts\n",
    "Ensure that Ollama is running and that the `ollama` command is available in your terminal.\n",
    "```bash\n",
    "ollama serve\n",
    "```\n",
    "If `ollama` is already running, it should show the following message:\n",
    "```bash\n",
    "Error: listen tcp 127.0.0.1:11434: bind: address already in use\n",
    "```\n",
    "\n",
    "#### Script 1: Generate Reddit Links\n",
    "This script will read the top posts from a subreddit and generate a list of links to the posts. These links will be placed in `input/top_posts.txt`."
   ]
  },
  {
   "cell_type": "code",
   "execution_count": 2,
   "metadata": {},
   "outputs": [
    {
     "name": "stdout",
     "output_type": "stream",
     "text": [
      "Successfully written top 10 post URLs to 'input/top_posts.txt'.\n"
     ]
    },
    {
     "data": {
      "text/plain": [
       "CompletedProcess(args=['python3', '1_generate-reddit-links.py', 'https://old.reddit.com/r/AmItheAsshole/hot/'], returncode=0)"
      ]
     },
     "execution_count": 2,
     "metadata": {},
     "output_type": "execute_result"
    }
   ],
   "source": [
    "import shlex\n",
    "import subprocess\n",
    "\n",
    "subreddit = \"https://old.reddit.com/r/AmItheAsshole/hot/\"\n",
    "command = shlex.split(f\"python3 1_generate-reddit-links.py {subreddit}\")\n",
    "subprocess.run(command)"
   ]
  },
  {
   "cell_type": "markdown",
   "metadata": {},
   "source": [
    "#### Script 2: Scrape Reddit Posts\n",
    "This script will read the links from `input/top_posts.txt` and scrape the posts. Each post will be saved in a separate file in the `./stories` directory."
   ]
  },
  {
   "cell_type": "code",
   "execution_count": null,
   "metadata": {},
   "outputs": [],
   "source": [
    "import shlex\n",
    "import subprocess\n",
    "\n",
    "command = shlex.split(\"python3 2_reddit-scrape.py\")\n",
    "subprocess.run(command)"
   ]
  },
  {
   "cell_type": "markdown",
   "metadata": {},
   "source": [
    "#### Script 3: Text To Speech\n",
    "This script will read the stories from the `./stories` directory and convert them to speech. The speech files will be saved in the `./audio` directory. \n",
    "\n",
    "This uses OPENAI's Whisper Model and costs Money. Do not run this script until you're you're sure that the correct stories are in the `./stories` directory.\n",
    "\n",
    "**CHEKLIST:**\n",
    "- [ ] I've Check the stories in the `./stories` directory\n",
    "- [ ] I acknowledge that this script will now read every file in the `./stories` directory and convert it to speech.\n"
   ]
  },
  {
   "cell_type": "code",
   "execution_count": null,
   "metadata": {},
   "outputs": [],
   "source": [
    "import shlex\n",
    "import subprocess\n",
    "\n",
    "command = shlex.split(\"python3 3_text-to-speech.py\")\n",
    "subprocess.run(command)"
   ]
  },
  {
   "cell_type": "markdown",
   "metadata": {},
   "source": [
    "#### Script 4: Clip Audio\n",
    "This script will read the audio files from the `./audio` directory and clip them into smaller audio files. The smaller audio files will be saved in the `./audio-clips` directory.\n",
    "\n",
    "The Script will look for audio files greater than 50 seconds long and clip them into smaller audio files.\n",
    "\n",
    "If you do not wish to clip the audio files, you can skip this step and manually copy the audio files to the `./audio-clips` directory.\n",
    "\n",
    "Otherwise, run the script and it will clip the audio files for you."
   ]
  },
  {
   "cell_type": "code",
   "execution_count": null,
   "metadata": {},
   "outputs": [],
   "source": [
    "import shlex\n",
    "import subprocess\n",
    "\n",
    "command = shlex.split(\"python3 4_clip-audio.py\")\n",
    "subprocess.run(command)"
   ]
  },
  {
   "cell_type": "markdown",
   "metadata": {},
   "source": [
    "#### Script 5: Generate SRT Files (Subtitles)\n",
    "This script will listen to the audio files in the `./audio-clips` directory and generate SRT files for each audio file. The SRT files will be saved in the `./transcript` directory."
   ]
  },
  {
   "cell_type": "code",
   "execution_count": null,
   "metadata": {},
   "outputs": [],
   "source": [
    "import shlex\n",
    "import subprocess\n",
    "\n",
    "command = shlex.split(\"python3 5_create-srt.py\")\n",
    "subprocess.run(command)"
   ]
  },
  {
   "cell_type": "markdown",
   "metadata": {},
   "source": [
    "#### Script 6: Generate Videos\n",
    "This script will read the audio files and SRT files from the `./audio-clips` and `./transcript` directories and generate videos. The videos will be saved in the `./output` directory."
   ]
  },
  {
   "cell_type": "code",
   "execution_count": null,
   "metadata": {},
   "outputs": [],
   "source": [
    "import shlex\n",
    "import subprocess\n",
    "\n",
    "command = shlex.split(\"python3 6_create-video.py\")\n",
    "subprocess.run(command)"
   ]
  }
 ],
 "metadata": {
  "kernelspec": {
   "display_name": "Python 3",
   "language": "python",
   "name": "python3"
  },
  "language_info": {
   "codemirror_mode": {
    "name": "ipython",
    "version": 3
   },
   "file_extension": ".py",
   "mimetype": "text/x-python",
   "name": "python",
   "nbconvert_exporter": "python",
   "pygments_lexer": "ipython3",
   "version": "3.9.12"
  }
 },
 "nbformat": 4,
 "nbformat_minor": 2
}
