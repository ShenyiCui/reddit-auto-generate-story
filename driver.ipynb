{
 "cells": [
  {
   "cell_type": "markdown",
   "metadata": {},
   "source": [
    "# Reddit Stories Auto Generator\n",
    "\n",
    "Use this script to generate stories from Reddit posts. The script will scrape the top posts from a subreddit and generate a story based on the top posts.\n",
    "\n",
    "### Step 1: Download Dependencies\n",
    "```bash\n",
    "pip3 install -r requirements.txt\n",
    "```\n",
    "\n",
    "### Step 2: Download ollama and fonts\n",
    "1. Follow the instructions after downloading the ollama model from [here](https://ollama.com/download)\n",
    "2. Go into the fonts folder and double click on the font files to install them."
   ]
  },
  {
   "cell_type": "markdown",
   "metadata": {},
   "source": [
    "### Step 3: Run Scripts\n",
    "Ensure that Ollama is running and that the `ollama` command is available in your terminal.\n",
    "```bash\n",
    "ollama serve\n",
    "```\n",
    "If `ollama` is already running, it should show the following message:\n",
    "```bash\n",
    "Error: listen tcp 127.0.0.1:11434: bind: address already in use\n",
    "```\n",
    "\n",
    "#### Script 1: Generate Reddit Links\n",
    "This script will read the top posts from a subreddit and generate a list of links to the posts. These links will be placed in `input/top_posts.txt`."
   ]
  },
  {
   "cell_type": "code",
   "execution_count": 2,
   "metadata": {},
   "outputs": [
    {
     "name": "stdout",
     "output_type": "stream",
     "text": [
      "Successfully written top 10 post URLs to 'input/top_posts.txt'.\n"
     ]
    },
    {
     "data": {
      "text/plain": [
       "CompletedProcess(args=['python3', '1_generate-reddit-links.py', 'https://old.reddit.com/r/AmItheAsshole/hot/'], returncode=0)"
      ]
     },
     "execution_count": 2,
     "metadata": {},
     "output_type": "execute_result"
    }
   ],
   "source": [
    "import shlex\n",
    "import subprocess\n",
    "\n",
    "subreddit = \"https://old.reddit.com/r/AmItheAsshole/hot/\"\n",
    "command = shlex.split(f\"python3 1_generate-reddit-links.py {subreddit}\")\n",
    "subprocess.run(command)"
   ]
  },
  {
   "cell_type": "markdown",
   "metadata": {},
   "source": [
    "#### Script 2: Scrape Reddit Posts\n",
    "This script will read the links from `input/top_posts.txt` and scrape the posts. Each post will be saved in a separate file in the `./stories` directory."
   ]
  },
  {
   "cell_type": "code",
   "execution_count": 1,
   "metadata": {},
   "outputs": [
    {
     "name": "stdout",
     "output_type": "stream",
     "text": [
      "Scraped A Package Marked “Return to sender” from https://www.reddit.com/r/nosleep/s/HKDKfxu8qr\n",
      "Scraped If you’re armed and at the Glenmont metro, please shoot me from https://www.reddit.com/r/nosleep/s/zaiUdkxuTs\n",
      "Scraped My roommate has been in the shower for more than four hours from https://www.reddit.com/r/nosleep/s/Dk6a8rO7E3\n",
      "Scraped There's Only Five Of Us On This Camping Trip. We Keep Counting Six from https://www.reddit.com/r/nosleep/s/dDTD2WO070\n",
      "Scraped I took a drive late one night. What happened will haunt me for the rest of my life. from https://www.reddit.com/r/nosleep/s/WlCV2Nby8w\n",
      "Scraped Dylan's Diary from https://www.reddit.com/r/nosleep/s/ionESYx1Mm\n",
      "Scraped There’s a death row inmate who we’ve executed over a dozen times. He won’t stay dead. from https://www.reddit.com/r/nosleep/s/1vI8PAlAEG\n"
     ]
    },
    {
     "data": {
      "text/plain": [
       "CompletedProcess(args=['python3', '2_reddit-scrape.py'], returncode=0)"
      ]
     },
     "execution_count": 1,
     "metadata": {},
     "output_type": "execute_result"
    }
   ],
   "source": [
    "import shlex\n",
    "import subprocess\n",
    "\n",
    "command = shlex.split(\"python3 2_reddit-scrape.py\")\n",
    "subprocess.run(command)"
   ]
  },
  {
   "cell_type": "markdown",
   "metadata": {},
   "source": [
    "#### Script 3: Text To Speech\n",
    "This script will read the stories from the `./stories` directory and convert them to speech. The speech files will be saved in the `./audio` directory. \n",
    "\n",
    "This uses OPENAI's Whisper Model and costs Money. Do not run this script until you're you're sure that the correct stories are in the `./stories` directory.\n",
    "\n",
    "**CHEKLIST:**\n",
    "- [ ] I've Check the stories in the `./stories` directory\n",
    "- [ ] I acknowledge that this script will now read every file in the `./stories` directory and convert it to speech.\n"
   ]
  },
  {
   "cell_type": "code",
   "execution_count": 4,
   "metadata": {},
   "outputs": [
    {
     "name": "stderr",
     "output_type": "stream",
     "text": [
      "/Users/shenyicui/Documents/GitHub/reddit-auto-generate-story/3_text-to-speech.py:47: DeprecationWarning: Due to a bug, this method doesn't actually stream the response content, `.with_streaming_response.method()` should be used instead\n",
      "  response.stream_to_file(speech_file_path)\n"
     ]
    },
    {
     "data": {
      "text/plain": [
       "CompletedProcess(args=['python3', '3_text-to-speech.py'], returncode=0)"
      ]
     },
     "execution_count": 4,
     "metadata": {},
     "output_type": "execute_result"
    }
   ],
   "source": [
    "import shlex\n",
    "import subprocess\n",
    "\n",
    "command = shlex.split(\"python3 3_text-to-speech.py\")\n",
    "subprocess.run(command)"
   ]
  },
  {
   "cell_type": "markdown",
   "metadata": {},
   "source": [
    "#### Script 4: Speed and Clip Audio\n",
    "\n",
    "\n",
    "This script will first speed up the audio by 1.36x and place the audio into the `./speedup-audio` directory.\n",
    "\n",
    "It'll then be up to you whether you'd like to clip the audio. If so read the audio files from the `./speedup-audio` directory and clip them into smaller audio files. The smaller audio files will be saved in the `./audio-clips` directory.\n",
    "\n",
    "The Script will look for audio files greater than 50 seconds long and clip them into smaller audio files.\n",
    "\n",
    "If you do not wish to clip the audio files, you can skip clipping and the files will be automatically placed in the `./audio-clips` directory.\n"
   ]
  },
  {
   "cell_type": "code",
   "execution_count": 5,
   "metadata": {},
   "outputs": [
    {
     "name": "stderr",
     "output_type": "stream",
     "text": [
      "ffmpeg version 7.1 Copyright (c) 2000-2024 the FFmpeg developers\n",
      "  built with Apple clang version 15.0.0 (clang-1500.3.9.4)\n",
      "  configuration: --prefix=/opt/homebrew/Cellar/ffmpeg/7.1 --enable-shared --enable-pthreads --enable-version3 --cc=clang --host-cflags= --host-ldflags='-Wl,-ld_classic' --enable-ffplay --enable-gnutls --enable-gpl --enable-libaom --enable-libaribb24 --enable-libbluray --enable-libdav1d --enable-libharfbuzz --enable-libjxl --enable-libmp3lame --enable-libopus --enable-librav1e --enable-librist --enable-librubberband --enable-libsnappy --enable-libsrt --enable-libssh --enable-libsvtav1 --enable-libtesseract --enable-libtheora --enable-libvidstab --enable-libvmaf --enable-libvorbis --enable-libvpx --enable-libwebp --enable-libx264 --enable-libx265 --enable-libxml2 --enable-libxvid --enable-lzma --enable-libfontconfig --enable-libfreetype --enable-frei0r --enable-libass --enable-libopencore-amrnb --enable-libopencore-amrwb --enable-libopenjpeg --enable-libspeex --enable-libsoxr --enable-libzmq --enable-libzimg --disable-libjack --disable-indev=jack --enable-videotoolbox --enable-audiotoolbox --enable-neon\n",
      "  libavutil      59. 39.100 / 59. 39.100\n",
      "  libavcodec     61. 19.100 / 61. 19.100\n",
      "  libavformat    61.  7.100 / 61.  7.100\n",
      "  libavdevice    61.  3.100 / 61.  3.100\n",
      "  libavfilter    10.  4.100 / 10.  4.100\n",
      "  libswscale      8.  3.100 /  8.  3.100\n",
      "  libswresample   5.  3.100 /  5.  3.100\n",
      "  libpostproc    58.  3.100 / 58.  3.100\n",
      "Input #0, mp3, from '/Users/shenyicui/Documents/GitHub/reddit-auto-generate-story/audio/APackageMarkedReturnToSender_1728664513477_2.mp3':\n",
      "  Metadata:\n",
      "    encoder         : Lavf61.7.100\n",
      "  Duration: 00:02:51.89, start: 0.046042, bitrate: 32 kb/s\n",
      "  Stream #0:0: Audio: mp3 (mp3float), 24000 Hz, mono, fltp, 32 kb/s\n",
      "Stream mapping:\n",
      "  Stream #0:0 -> #0:0 (mp3 (mp3float) -> mp3 (libmp3lame))\n",
      "Press [q] to stop, [?] for help\n",
      "Output #0, mp3, to '/Users/shenyicui/Documents/GitHub/reddit-auto-generate-story/speedup-audio/APackageMarkedReturnToSender_1728664513477_2.mp3':\n",
      "  Metadata:\n",
      "    TSSE            : Lavf61.7.100\n",
      "  Stream #0:0: Audio: mp3, 24000 Hz, mono, fltp\n",
      "      Metadata:\n",
      "        encoder         : Lavc61.19.100 libmp3lame\n",
      "[libmp3lame @ 0x12b632400] Trying to remove 576 samples, but the queue is empty\n",
      "[out#0/mp3 @ 0x12b62c5b0] video:0KiB audio:494KiB subtitle:0KiB other streams:0KiB global headers:0KiB muxing overhead: 0.046674%\n",
      "size=     494KiB time=00:02:06.33 bitrate=  32.0kbits/s speed= 300x    \n",
      "ffmpeg version 7.1 Copyright (c) 2000-2024 the FFmpeg developers\n",
      "  built with Apple clang version 15.0.0 (clang-1500.3.9.4)\n",
      "  configuration: --prefix=/opt/homebrew/Cellar/ffmpeg/7.1 --enable-shared --enable-pthreads --enable-version3 --cc=clang --host-cflags= --host-ldflags='-Wl,-ld_classic' --enable-ffplay --enable-gnutls --enable-gpl --enable-libaom --enable-libaribb24 --enable-libbluray --enable-libdav1d --enable-libharfbuzz --enable-libjxl --enable-libmp3lame --enable-libopus --enable-librav1e --enable-librist --enable-librubberband --enable-libsnappy --enable-libsrt --enable-libssh --enable-libsvtav1 --enable-libtesseract --enable-libtheora --enable-libvidstab --enable-libvmaf --enable-libvorbis --enable-libvpx --enable-libwebp --enable-libx264 --enable-libx265 --enable-libxml2 --enable-libxvid --enable-lzma --enable-libfontconfig --enable-libfreetype --enable-frei0r --enable-libass --enable-libopencore-amrnb --enable-libopencore-amrwb --enable-libopenjpeg --enable-libspeex --enable-libsoxr --enable-libzmq --enable-libzimg --disable-libjack --disable-indev=jack --enable-videotoolbox --enable-audiotoolbox --enable-neon\n",
      "  libavutil      59. 39.100 / 59. 39.100\n",
      "  libavcodec     61. 19.100 / 61. 19.100\n",
      "  libavformat    61.  7.100 / 61.  7.100\n",
      "  libavdevice    61.  3.100 / 61.  3.100\n",
      "  libavfilter    10.  4.100 / 10.  4.100\n",
      "  libswscale      8.  3.100 /  8.  3.100\n",
      "  libswresample   5.  3.100 /  5.  3.100\n",
      "  libpostproc    58.  3.100 / 58.  3.100\n",
      "Input #0, mp3, from '/Users/shenyicui/Documents/GitHub/reddit-auto-generate-story/audio/APackageMarkedReturnToSender_1728664513477_1.mp3':\n",
      "  Metadata:\n",
      "    encoder         : Lavf61.7.100\n",
      "  Duration: 00:02:33.26, start: 0.046042, bitrate: 32 kb/s\n",
      "  Stream #0:0: Audio: mp3 (mp3float), 24000 Hz, mono, fltp, 32 kb/s\n",
      "Stream mapping:\n",
      "  Stream #0:0 -> #0:0 (mp3 (mp3float) -> mp3 (libmp3lame))\n",
      "Press [q] to stop, [?] for help\n",
      "Output #0, mp3, to '/Users/shenyicui/Documents/GitHub/reddit-auto-generate-story/speedup-audio/APackageMarkedReturnToSender_1728664513477_1.mp3':\n",
      "  Metadata:\n",
      "    TSSE            : Lavf61.7.100\n",
      "  Stream #0:0: Audio: mp3, 24000 Hz, mono, fltp\n",
      "      Metadata:\n",
      "        encoder         : Lavc61.19.100 libmp3lame\n",
      "[out#0/mp3 @ 0x14ce2d8e0] video:0KiB audio:440KiB subtitle:0KiB other streams:0KiB global headers:0KiB muxing overhead: 0.052338%\n",
      "size=     441KiB time=00:01:52.65 bitrate=  32.0kbits/s speed= 310x    \n"
     ]
    }
   ],
   "source": [
    "import shlex\n",
    "import subprocess\n",
    "\n",
    "speed = input(\"Enter the speed of the audio (default is 1.36): \")\n",
    "speed = speed if speed else \"1.36\"\n",
    "\n",
    "is_clip = input(\"Do you want to clip the audio? (Recommended No for TikTok, Yes for Youtube) (y/n): \")\n",
    "\n",
    "if is_clip == \"y\":\n",
    "    start = input(\"Enter the start time of the clip: \")\n",
    "    end = input(\"Enter the end time of the clip: \")\n",
    "    command = shlex.split(f\"python3 4_clip-audio.py {speed} y\")\n",
    "    subprocess.run(command)\n",
    "else:\n",
    "    command = shlex.split(f\"python3 4_clip-audio.py {speed}\")\n",
    "    subprocess.run(command)"
   ]
  },
  {
   "cell_type": "markdown",
   "metadata": {},
   "source": [
    "#### Script 5: Generate SRT Files (Subtitles)\n",
    "This script will listen to the audio files in the `./audio-clips` directory and generate SRT files for each audio file. The SRT files will be saved in the `./transcript` directory."
   ]
  },
  {
   "cell_type": "code",
   "execution_count": 5,
   "metadata": {},
   "outputs": [
    {
     "name": "stderr",
     "output_type": "stream",
     "text": [
      "/Users/shenyicui/.pyenv/versions/3.9.12/lib/python3.9/site-packages/whisper/transcribe.py:126: UserWarning: FP16 is not supported on CPU; using FP32 instead\n",
      "  warnings.warn(\"FP16 is not supported on CPU; using FP32 instead\")\n"
     ]
    },
    {
     "name": "stdout",
     "output_type": "stream",
     "text": [
      "\n",
      "****\n",
      "Created /Users/shenyicui/Documents/GitHub/reddit-auto-generate-story/transcripts/APackageMarkedReturnToSender_1728664513477_2.srt\n",
      "****\n"
     ]
    },
    {
     "name": "stderr",
     "output_type": "stream",
     "text": [
      "/Users/shenyicui/.pyenv/versions/3.9.12/lib/python3.9/site-packages/whisper/transcribe.py:126: UserWarning: FP16 is not supported on CPU; using FP32 instead\n",
      "  warnings.warn(\"FP16 is not supported on CPU; using FP32 instead\")\n"
     ]
    },
    {
     "name": "stdout",
     "output_type": "stream",
     "text": [
      "\n",
      "****\n",
      "Created /Users/shenyicui/Documents/GitHub/reddit-auto-generate-story/transcripts/APackageMarkedReturnToSender_1728664513477_1.srt\n",
      "****\n"
     ]
    },
    {
     "data": {
      "text/plain": [
       "CompletedProcess(args=['python3', '5_create-srt.py'], returncode=0)"
      ]
     },
     "execution_count": 5,
     "metadata": {},
     "output_type": "execute_result"
    }
   ],
   "source": [
    "import shlex\n",
    "import subprocess\n",
    "\n",
    "command = shlex.split(\"python3 5_create-srt.py\")\n",
    "subprocess.run(command)"
   ]
  },
  {
   "cell_type": "markdown",
   "metadata": {},
   "source": [
    "#### Script 6: Generate Videos\n",
    "This script will read the audio files and SRT files from the `./audio-clips` and `./transcript` directories and generate videos. The videos will be saved in the `./output` directory."
   ]
  },
  {
   "cell_type": "code",
   "execution_count": 6,
   "metadata": {},
   "outputs": [
    {
     "name": "stdout",
     "output_type": "stream",
     "text": [
      "/Users/shenyicui/Documents/GitHub/reddit-auto-generate-story/template-videos/subway.mp4\n"
     ]
    },
    {
     "name": "stderr",
     "output_type": "stream",
     "text": [
      "ffmpeg version 7.1 Copyright (c) 2000-2024 the FFmpeg developers\n",
      "  built with Apple clang version 15.0.0 (clang-1500.3.9.4)\n",
      "  configuration: --prefix=/opt/homebrew/Cellar/ffmpeg/7.1 --enable-shared --enable-pthreads --enable-version3 --cc=clang --host-cflags= --host-ldflags='-Wl,-ld_classic' --enable-ffplay --enable-gnutls --enable-gpl --enable-libaom --enable-libaribb24 --enable-libbluray --enable-libdav1d --enable-libharfbuzz --enable-libjxl --enable-libmp3lame --enable-libopus --enable-librav1e --enable-librist --enable-librubberband --enable-libsnappy --enable-libsrt --enable-libssh --enable-libsvtav1 --enable-libtesseract --enable-libtheora --enable-libvidstab --enable-libvmaf --enable-libvorbis --enable-libvpx --enable-libwebp --enable-libx264 --enable-libx265 --enable-libxml2 --enable-libxvid --enable-lzma --enable-libfontconfig --enable-libfreetype --enable-frei0r --enable-libass --enable-libopencore-amrnb --enable-libopencore-amrwb --enable-libopenjpeg --enable-libspeex --enable-libsoxr --enable-libzmq --enable-libzimg --disable-libjack --disable-indev=jack --enable-videotoolbox --enable-audiotoolbox --enable-neon\n",
      "  libavutil      59. 39.100 / 59. 39.100\n",
      "  libavcodec     61. 19.100 / 61. 19.100\n",
      "  libavformat    61.  7.100 / 61.  7.100\n",
      "  libavdevice    61.  3.100 / 61.  3.100\n",
      "  libavfilter    10.  4.100 / 10.  4.100\n",
      "  libswscale      8.  3.100 /  8.  3.100\n",
      "  libswresample   5.  3.100 /  5.  3.100\n",
      "  libpostproc    58.  3.100 / 58.  3.100\n",
      "Input #0, mov,mp4,m4a,3gp,3g2,mj2, from '/Users/shenyicui/Documents/GitHub/reddit-auto-generate-story/template-videos/subway.mp4':\n",
      "  Metadata:\n",
      "    major_brand     : isom\n",
      "    minor_version   : 512\n",
      "    compatible_brands: isomiso2avc1mp41\n",
      "    encoder         : Lavf61.7.100\n",
      "  Duration: 00:03:13.10, start: 0.000000, bitrate: 8568 kb/s\n",
      "  Stream #0:0[0x1](eng): Video: h264 (High) (avc1 / 0x31637661), yuv420p(tv, bt709, progressive), 1216x2160 [SAR 1:1 DAR 76:135], 8444 kb/s, 30 fps, 30 tbr, 15360 tbn (default)\n",
      "      Metadata:\n",
      "        handler_name    : VideoHandler\n",
      "        vendor_id       : [0][0][0][0]\n",
      "        encoder         : Lavc61.19.100 libx264\n",
      "  Stream #0:1[0x2](und): Audio: aac (LC) (mp4a / 0x6134706D), 44100 Hz, stereo, fltp, 118 kb/s (default)\n",
      "      Metadata:\n",
      "        handler_name    : ISO Media file produced by Google Inc.\n",
      "        vendor_id       : [0][0][0][0]\n",
      "Stream mapping:\n",
      "  Stream #0:0 -> #0:0 (copy)\n",
      "  Stream #0:1 -> #0:1 (copy)\n",
      "Output #0, mp4, to '/Users/shenyicui/Documents/GitHub/reddit-auto-generate-story/output/APackageMarkedReturnToSender_1728664513477_2_temp.mp4':\n",
      "  Metadata:\n",
      "    major_brand     : isom\n",
      "    minor_version   : 512\n",
      "    compatible_brands: isomiso2avc1mp41\n",
      "    encoder         : Lavf61.7.100\n",
      "  Stream #0:0(eng): Video: h264 (High) (avc1 / 0x31637661), yuv420p(tv, bt709, progressive), 1216x2160 [SAR 1:1 DAR 76:135], q=2-31, 8444 kb/s, 30 fps, 30 tbr, 15360 tbn (default)\n",
      "      Metadata:\n",
      "        handler_name    : VideoHandler\n",
      "        vendor_id       : [0][0][0][0]\n",
      "        encoder         : Lavc61.19.100 libx264\n",
      "  Stream #0:1(und): Audio: aac (LC) (mp4a / 0x6134706D), 44100 Hz, stereo, fltp, 118 kb/s (default)\n",
      "      Metadata:\n",
      "        handler_name    : ISO Media file produced by Google Inc.\n",
      "        vendor_id       : [0][0][0][0]\n",
      "Press [q] to stop, [?] for help\n",
      "[out#0/mp4 @ 0x153e2c8f0] video:180635KiB audio:2575KiB subtitle:0KiB other streams:0KiB global headers:0KiB muxing overhead: 0.095731%\n",
      "frame= 5262 fps=0.0 q=-1.0 Lsize=  183385KiB time=00:02:53.00 bitrate=8683.7kbits/s speed=1.3e+03x    \n",
      "ffmpeg version 7.1 Copyright (c) 2000-2024 the FFmpeg developers\n",
      "  built with Apple clang version 15.0.0 (clang-1500.3.9.4)\n",
      "  configuration: --prefix=/opt/homebrew/Cellar/ffmpeg/7.1 --enable-shared --enable-pthreads --enable-version3 --cc=clang --host-cflags= --host-ldflags='-Wl,-ld_classic' --enable-ffplay --enable-gnutls --enable-gpl --enable-libaom --enable-libaribb24 --enable-libbluray --enable-libdav1d --enable-libharfbuzz --enable-libjxl --enable-libmp3lame --enable-libopus --enable-librav1e --enable-librist --enable-librubberband --enable-libsnappy --enable-libsrt --enable-libssh --enable-libsvtav1 --enable-libtesseract --enable-libtheora --enable-libvidstab --enable-libvmaf --enable-libvorbis --enable-libvpx --enable-libwebp --enable-libx264 --enable-libx265 --enable-libxml2 --enable-libxvid --enable-lzma --enable-libfontconfig --enable-libfreetype --enable-frei0r --enable-libass --enable-libopencore-amrnb --enable-libopencore-amrwb --enable-libopenjpeg --enable-libspeex --enable-libsoxr --enable-libzmq --enable-libzimg --disable-libjack --disable-indev=jack --enable-videotoolbox --enable-audiotoolbox --enable-neon\n",
      "  libavutil      59. 39.100 / 59. 39.100\n",
      "  libavcodec     61. 19.100 / 61. 19.100\n",
      "  libavformat    61.  7.100 / 61.  7.100\n",
      "  libavdevice    61.  3.100 / 61.  3.100\n",
      "  libavfilter    10.  4.100 / 10.  4.100\n",
      "  libswscale      8.  3.100 /  8.  3.100\n",
      "  libswresample   5.  3.100 /  5.  3.100\n",
      "  libpostproc    58.  3.100 / 58.  3.100\n",
      "Input #0, mov,mp4,m4a,3gp,3g2,mj2, from '/Users/shenyicui/Documents/GitHub/reddit-auto-generate-story/output/APackageMarkedReturnToSender_1728664513477_2.mp4':\n",
      "  Metadata:\n",
      "    major_brand     : isom\n",
      "    minor_version   : 512\n",
      "    compatible_brands: isomiso2avc1mp41\n",
      "    encoder         : Lavf61.7.100\n",
      "  Duration: 00:02:53.13, start: 0.000000, bitrate: 8677 kb/s\n",
      "  Stream #0:0[0x1](eng): Video: h264 (High) (avc1 / 0x31637661), yuv420p(tv, bt709, progressive), 1216x2160 [SAR 1:1 DAR 76:135], 8436 kb/s, 30 fps, 30 tbr, 15360 tbn (default)\n",
      "      Metadata:\n",
      "        handler_name    : VideoHandler\n",
      "        vendor_id       : [0][0][0][0]\n",
      "        encoder         : Lavc61.19.100 libx264\n",
      "  Stream #0:1[0x2](und): Audio: aac (LC) (mp4a / 0x6134706D), 44100 Hz, stereo, fltp, 120 kb/s (default)\n",
      "      Metadata:\n",
      "        handler_name    : ISO Media file produced by Google Inc.\n",
      "        vendor_id       : [0][0][0][0]\n",
      "[Parsed_subtitles_0 @ 0x142a10820] libass API version: 0x1703000\n",
      "[Parsed_subtitles_0 @ 0x142a10820] libass source: tarball: 0.17.3\n",
      "[Parsed_subtitles_0 @ 0x142a10820] Shaper: FriBidi 1.0.15 (SIMPLE) HarfBuzz-ng 10.0.1 (COMPLEX)\n",
      "[Parsed_subtitles_0 @ 0x142a10820] Using font provider coretext\n",
      "Stream mapping:\n",
      "  Stream #0:0 -> #0:0 (h264 (native) -> h264 (libx264))\n",
      "  Stream #0:1 -> #0:1 (aac (native) -> aac (native))\n",
      "Press [q] to stop, [?] for help\n",
      "[Parsed_subtitles_0 @ 0x142a11260] libass API version: 0x1703000\n",
      "[Parsed_subtitles_0 @ 0x142a11260] libass source: tarball: 0.17.3\n",
      "[Parsed_subtitles_0 @ 0x142a11260] Shaper: FriBidi 1.0.15 (SIMPLE) HarfBuzz-ng 10.0.1 (COMPLEX)\n",
      "[Parsed_subtitles_0 @ 0x142a11260] Using font provider coretext\n",
      "[Parsed_subtitles_0 @ 0x142a11260] fontselect: (Roboto, 400, 0) -> /Users/shenyicui/Library/Fonts/Roboto-Black.ttf, -1, Roboto-Black\n",
      "[libx264 @ 0x142a0fd70] using SAR=1/1\n",
      "[libx264 @ 0x142a0fd70] using cpu capabilities: ARMv8 NEON\n",
      "[libx264 @ 0x142a0fd70] profile High, level 5.0, 4:2:0, 8-bit\n",
      "[libx264 @ 0x142a0fd70] 264 - core 164 r3108 31e19f9 - H.264/MPEG-4 AVC codec - Copyleft 2003-2023 - http://www.videolan.org/x264.html - options: cabac=1 ref=3 deblock=1:0:0 analyse=0x3:0x113 me=hex subme=7 psy=1 psy_rd=1.00:0.00 mixed_ref=1 me_range=16 chroma_me=1 trellis=1 8x8dct=1 cqm=0 deadzone=21,11 fast_pskip=1 chroma_qp_offset=-2 threads=15 lookahead_threads=2 sliced_threads=0 nr=0 decimate=1 interlaced=0 bluray_compat=0 constrained_intra=0 bframes=3 b_pyramid=2 b_adapt=1 b_bias=0 direct=1 weightb=1 open_gop=0 weightp=2 keyint=250 keyint_min=25 scenecut=40 intra_refresh=0 rc_lookahead=40 rc=crf mbtree=1 crf=23.0 qcomp=0.60 qpmin=0 qpmax=69 qpstep=4 ip_ratio=1.40 aq=1:1.00\n",
      "Output #0, mp4, to '/Users/shenyicui/Documents/GitHub/reddit-auto-generate-story/output/APackageMarkedReturnToSender_1728664513477_2_temp.mp4':\n",
      "  Metadata:\n",
      "    major_brand     : isom\n",
      "    minor_version   : 512\n",
      "    compatible_brands: isomiso2avc1mp41\n",
      "    encoder         : Lavf61.7.100\n",
      "  Stream #0:0(eng): Video: h264 (avc1 / 0x31637661), yuv420p(tv, bt709, progressive), 1216x2160 [SAR 1:1 DAR 76:135], q=2-31, 30 fps, 15360 tbn (default)\n",
      "      Metadata:\n",
      "        handler_name    : VideoHandler\n",
      "        vendor_id       : [0][0][0][0]\n",
      "        encoder         : Lavc61.19.100 libx264\n",
      "      Side data:\n",
      "        cpb: bitrate max/min/avg: 0/0/0 buffer size: 0 vbv_delay: N/A\n",
      "  Stream #0:1(und): Audio: aac (LC) (mp4a / 0x6134706D), 44100 Hz, stereo, fltp, 128 kb/s (default)\n",
      "      Metadata:\n",
      "        handler_name    : ISO Media file produced by Google Inc.\n",
      "        vendor_id       : [0][0][0][0]\n",
      "        encoder         : Lavc61.19.100 aac\n",
      "[out#0/mp4 @ 0x142904d40] video:182211KiB audio:2585KiB subtitle:0KiB other streams:0KiB global headers:0KiB muxing overhead: 0.096195%\n",
      "frame= 5192 fps= 53 q=-1.0 Lsize=  184973KiB time=00:02:53.00 bitrate=8759.0kbits/s speed=1.77x    \n",
      "[libx264 @ 0x142a0fd70] frame I:26    Avg QP:20.58  size:116334\n",
      "[libx264 @ 0x142a0fd70] frame P:2507  Avg QP:24.00  size: 46211\n",
      "[libx264 @ 0x142a0fd70] frame B:2659  Avg QP:26.05  size: 25463\n",
      "[libx264 @ 0x142a0fd70] consecutive B-frames: 20.9% 27.2% 16.0% 35.9%\n",
      "[libx264 @ 0x142a0fd70] mb I  I16..4: 26.9% 48.2% 24.9%\n",
      "[libx264 @ 0x142a0fd70] mb P  I16..4: 11.0% 19.8%  3.9%  P16..4: 30.0%  8.7%  3.4%  0.0%  0.0%    skip:23.2%\n",
      "[libx264 @ 0x142a0fd70] mb B  I16..4:  3.9%  5.2%  1.3%  B16..8: 35.5%  7.5%  1.3%  direct: 2.8%  skip:42.4%  L0:54.6% L1:41.0% BI: 4.4%\n",
      "[libx264 @ 0x142a0fd70] 8x8 transform intra:55.2% inter:67.6%\n",
      "[libx264 @ 0x142a0fd70] coded y,uvDC,uvAC intra: 22.2% 47.9% 15.5% inter: 10.6% 18.9% 2.5%\n",
      "[libx264 @ 0x142a0fd70] i16 v,h,dc,p: 33% 37%  9% 21%\n",
      "[libx264 @ 0x142a0fd70] i8 v,h,dc,ddl,ddr,vr,hd,vl,hu: 33% 19% 34%  2%  2%  3%  2%  3%  2%\n",
      "[libx264 @ 0x142a0fd70] i4 v,h,dc,ddl,ddr,vr,hd,vl,hu: 35% 22% 19%  4%  4%  6%  4%  5%  2%\n",
      "[libx264 @ 0x142a0fd70] i8c dc,h,v,p: 50% 22% 23%  5%\n",
      "[libx264 @ 0x142a0fd70] Weighted P-Frames: Y:0.0% UV:0.0%\n",
      "[libx264 @ 0x142a0fd70] ref P L0: 59.4% 13.0% 18.4%  9.2%\n",
      "[libx264 @ 0x142a0fd70] ref B L0: 80.7% 15.7%  3.6%\n",
      "[libx264 @ 0x142a0fd70] ref B L1: 96.1%  3.9%\n",
      "[libx264 @ 0x142a0fd70] kb/s:8619.81\n",
      "[aac @ 0x141771980] Qavg: 6691.246\n",
      "ffmpeg version 7.1 Copyright (c) 2000-2024 the FFmpeg developers\n",
      "  built with Apple clang version 15.0.0 (clang-1500.3.9.4)\n",
      "  configuration: --prefix=/opt/homebrew/Cellar/ffmpeg/7.1 --enable-shared --enable-pthreads --enable-version3 --cc=clang --host-cflags= --host-ldflags='-Wl,-ld_classic' --enable-ffplay --enable-gnutls --enable-gpl --enable-libaom --enable-libaribb24 --enable-libbluray --enable-libdav1d --enable-libharfbuzz --enable-libjxl --enable-libmp3lame --enable-libopus --enable-librav1e --enable-librist --enable-librubberband --enable-libsnappy --enable-libsrt --enable-libssh --enable-libsvtav1 --enable-libtesseract --enable-libtheora --enable-libvidstab --enable-libvmaf --enable-libvorbis --enable-libvpx --enable-libwebp --enable-libx264 --enable-libx265 --enable-libxml2 --enable-libxvid --enable-lzma --enable-libfontconfig --enable-libfreetype --enable-frei0r --enable-libass --enable-libopencore-amrnb --enable-libopencore-amrwb --enable-libopenjpeg --enable-libspeex --enable-libsoxr --enable-libzmq --enable-libzimg --disable-libjack --disable-indev=jack --enable-videotoolbox --enable-audiotoolbox --enable-neon\n",
      "  libavutil      59. 39.100 / 59. 39.100\n",
      "  libavcodec     61. 19.100 / 61. 19.100\n",
      "  libavformat    61.  7.100 / 61.  7.100\n",
      "  libavdevice    61.  3.100 / 61.  3.100\n",
      "  libavfilter    10.  4.100 / 10.  4.100\n",
      "  libswscale      8.  3.100 /  8.  3.100\n",
      "  libswresample   5.  3.100 /  5.  3.100\n",
      "  libpostproc    58.  3.100 / 58.  3.100\n",
      "Input #0, mov,mp4,m4a,3gp,3g2,mj2, from '/Users/shenyicui/Documents/GitHub/reddit-auto-generate-story/output/APackageMarkedReturnToSender_1728664513477_2.mp4':\n",
      "  Metadata:\n",
      "    major_brand     : isom\n",
      "    minor_version   : 512\n",
      "    compatible_brands: isomiso2avc1mp41\n",
      "    encoder         : Lavf61.7.100\n",
      "  Duration: 00:02:53.07, start: 0.000000, bitrate: 8755 kb/s\n",
      "  Stream #0:0[0x1](eng): Video: h264 (High) (avc1 / 0x31637661), yuv420p(tv, bt709, progressive), 1216x2160 [SAR 1:1 DAR 76:135], 8624 kb/s, 30 fps, 30 tbr, 15360 tbn (default)\n",
      "      Metadata:\n",
      "        handler_name    : VideoHandler\n",
      "        vendor_id       : [0][0][0][0]\n",
      "        encoder         : Lavc61.19.100 libx264\n",
      "  Stream #0:1[0x2](und): Audio: aac (LC) (mp4a / 0x6134706D), 44100 Hz, stereo, fltp, 122 kb/s (default)\n",
      "      Metadata:\n",
      "        handler_name    : ISO Media file produced by Google Inc.\n",
      "        vendor_id       : [0][0][0][0]\n",
      "Input #1, mp3, from '/Users/shenyicui/Documents/GitHub/reddit-auto-generate-story/audio-clips/APackageMarkedReturnToSender_1728664513477_2.mp3':\n",
      "  Metadata:\n",
      "    encoder         : Lavf61.7.100\n",
      "  Duration: 00:02:51.89, start: 0.046042, bitrate: 32 kb/s\n",
      "  Stream #1:0: Audio: mp3 (mp3float), 24000 Hz, mono, fltp, 32 kb/s\n",
      "Stream mapping:\n",
      "  Stream #0:0 -> #0:0 (copy)\n",
      "  Stream #1:0 -> #0:1 (copy)\n",
      "Output #0, mp4, to '/Users/shenyicui/Documents/GitHub/reddit-auto-generate-story/output/APackageMarkedReturnToSender_1728664513477_2_temp.mp4':\n",
      "  Metadata:\n",
      "    major_brand     : isom\n",
      "    minor_version   : 512\n",
      "    compatible_brands: isomiso2avc1mp41\n",
      "    encoder         : Lavf61.7.100\n",
      "  Stream #0:0(eng): Video: h264 (High) (avc1 / 0x31637661), yuv420p(tv, bt709, progressive), 1216x2160 [SAR 1:1 DAR 76:135], q=2-31, 8624 kb/s, 30 fps, 30 tbr, 15360 tbn (default)\n",
      "      Metadata:\n",
      "        handler_name    : VideoHandler\n",
      "        vendor_id       : [0][0][0][0]\n",
      "        encoder         : Lavc61.19.100 libx264\n",
      "  Stream #0:1: Audio: mp3 (mp4a / 0x6134706D), 24000 Hz, mono, fltp, 32 kb/s\n",
      "Press [q] to stop, [?] for help\n",
      "[out#0/mp4 @ 0x137f2f000] video:181254KiB audio:671KiB subtitle:0KiB other streams:0KiB global headers:0KiB muxing overhead: 0.077955%\n",
      "frame= 5155 fps=0.0 q=-1.0 Lsize=  182067KiB time=00:02:51.80 bitrate=8681.6kbits/s speed=1.17e+03x    \n"
     ]
    },
    {
     "name": "stdout",
     "output_type": "stream",
     "text": [
      "Created /Users/shenyicui/Documents/GitHub/reddit-auto-generate-story/output/APackageMarkedReturnToSender_1728664513477_2.mp4\n",
      "/Users/shenyicui/Documents/GitHub/reddit-auto-generate-story/template-videos/subway.mp4\n"
     ]
    },
    {
     "name": "stderr",
     "output_type": "stream",
     "text": [
      "ffmpeg version 7.1 Copyright (c) 2000-2024 the FFmpeg developers\n",
      "  built with Apple clang version 15.0.0 (clang-1500.3.9.4)\n",
      "  configuration: --prefix=/opt/homebrew/Cellar/ffmpeg/7.1 --enable-shared --enable-pthreads --enable-version3 --cc=clang --host-cflags= --host-ldflags='-Wl,-ld_classic' --enable-ffplay --enable-gnutls --enable-gpl --enable-libaom --enable-libaribb24 --enable-libbluray --enable-libdav1d --enable-libharfbuzz --enable-libjxl --enable-libmp3lame --enable-libopus --enable-librav1e --enable-librist --enable-librubberband --enable-libsnappy --enable-libsrt --enable-libssh --enable-libsvtav1 --enable-libtesseract --enable-libtheora --enable-libvidstab --enable-libvmaf --enable-libvorbis --enable-libvpx --enable-libwebp --enable-libx264 --enable-libx265 --enable-libxml2 --enable-libxvid --enable-lzma --enable-libfontconfig --enable-libfreetype --enable-frei0r --enable-libass --enable-libopencore-amrnb --enable-libopencore-amrwb --enable-libopenjpeg --enable-libspeex --enable-libsoxr --enable-libzmq --enable-libzimg --disable-libjack --disable-indev=jack --enable-videotoolbox --enable-audiotoolbox --enable-neon\n",
      "  libavutil      59. 39.100 / 59. 39.100\n",
      "  libavcodec     61. 19.100 / 61. 19.100\n",
      "  libavformat    61.  7.100 / 61.  7.100\n",
      "  libavdevice    61.  3.100 / 61.  3.100\n",
      "  libavfilter    10.  4.100 / 10.  4.100\n",
      "  libswscale      8.  3.100 /  8.  3.100\n",
      "  libswresample   5.  3.100 /  5.  3.100\n",
      "  libpostproc    58.  3.100 / 58.  3.100\n",
      "Input #0, mov,mp4,m4a,3gp,3g2,mj2, from '/Users/shenyicui/Documents/GitHub/reddit-auto-generate-story/template-videos/subway.mp4':\n",
      "  Metadata:\n",
      "    major_brand     : isom\n",
      "    minor_version   : 512\n",
      "    compatible_brands: isomiso2avc1mp41\n",
      "    encoder         : Lavf61.7.100\n",
      "  Duration: 00:03:13.10, start: 0.000000, bitrate: 8568 kb/s\n",
      "  Stream #0:0[0x1](eng): Video: h264 (High) (avc1 / 0x31637661), yuv420p(tv, bt709, progressive), 1216x2160 [SAR 1:1 DAR 76:135], 8444 kb/s, 30 fps, 30 tbr, 15360 tbn (default)\n",
      "      Metadata:\n",
      "        handler_name    : VideoHandler\n",
      "        vendor_id       : [0][0][0][0]\n",
      "        encoder         : Lavc61.19.100 libx264\n",
      "  Stream #0:1[0x2](und): Audio: aac (LC) (mp4a / 0x6134706D), 44100 Hz, stereo, fltp, 118 kb/s (default)\n",
      "      Metadata:\n",
      "        handler_name    : ISO Media file produced by Google Inc.\n",
      "        vendor_id       : [0][0][0][0]\n",
      "Stream mapping:\n",
      "  Stream #0:0 -> #0:0 (copy)\n",
      "  Stream #0:1 -> #0:1 (copy)\n",
      "Output #0, mp4, to '/Users/shenyicui/Documents/GitHub/reddit-auto-generate-story/output/APackageMarkedReturnToSender_1728664513477_1_temp.mp4':\n",
      "  Metadata:\n",
      "    major_brand     : isom\n",
      "    minor_version   : 512\n",
      "    compatible_brands: isomiso2avc1mp41\n",
      "    encoder         : Lavf61.7.100\n",
      "  Stream #0:0(eng): Video: h264 (High) (avc1 / 0x31637661), yuv420p(tv, bt709, progressive), 1216x2160 [SAR 1:1 DAR 76:135], q=2-31, 8444 kb/s, 30 fps, 30 tbr, 15360 tbn (default)\n",
      "      Metadata:\n",
      "        handler_name    : VideoHandler\n",
      "        vendor_id       : [0][0][0][0]\n",
      "        encoder         : Lavc61.19.100 libx264\n",
      "  Stream #0:1(und): Audio: aac (LC) (mp4a / 0x6134706D), 44100 Hz, stereo, fltp, 118 kb/s (default)\n",
      "      Metadata:\n",
      "        handler_name    : ISO Media file produced by Google Inc.\n",
      "        vendor_id       : [0][0][0][0]\n",
      "Press [q] to stop, [?] for help\n",
      "[out#0/mp4 @ 0x134708380] video:164028KiB audio:2329KiB subtitle:0KiB other streams:0KiB global headers:0KiB muxing overhead: 0.095783%\n",
      "frame= 4782 fps=0.0 q=-1.0 Lsize=  166516KiB time=00:02:39.00 bitrate=8579.2kbits/s speed= 963x    \n",
      "ffmpeg version 7.1 Copyright (c) 2000-2024 the FFmpeg developers\n",
      "  built with Apple clang version 15.0.0 (clang-1500.3.9.4)\n",
      "  configuration: --prefix=/opt/homebrew/Cellar/ffmpeg/7.1 --enable-shared --enable-pthreads --enable-version3 --cc=clang --host-cflags= --host-ldflags='-Wl,-ld_classic' --enable-ffplay --enable-gnutls --enable-gpl --enable-libaom --enable-libaribb24 --enable-libbluray --enable-libdav1d --enable-libharfbuzz --enable-libjxl --enable-libmp3lame --enable-libopus --enable-librav1e --enable-librist --enable-librubberband --enable-libsnappy --enable-libsrt --enable-libssh --enable-libsvtav1 --enable-libtesseract --enable-libtheora --enable-libvidstab --enable-libvmaf --enable-libvorbis --enable-libvpx --enable-libwebp --enable-libx264 --enable-libx265 --enable-libxml2 --enable-libxvid --enable-lzma --enable-libfontconfig --enable-libfreetype --enable-frei0r --enable-libass --enable-libopencore-amrnb --enable-libopencore-amrwb --enable-libopenjpeg --enable-libspeex --enable-libsoxr --enable-libzmq --enable-libzimg --disable-libjack --disable-indev=jack --enable-videotoolbox --enable-audiotoolbox --enable-neon\n",
      "  libavutil      59. 39.100 / 59. 39.100\n",
      "  libavcodec     61. 19.100 / 61. 19.100\n",
      "  libavformat    61.  7.100 / 61.  7.100\n",
      "  libavdevice    61.  3.100 / 61.  3.100\n",
      "  libavfilter    10.  4.100 / 10.  4.100\n",
      "  libswscale      8.  3.100 /  8.  3.100\n",
      "  libswresample   5.  3.100 /  5.  3.100\n",
      "  libpostproc    58.  3.100 / 58.  3.100\n",
      "Input #0, mov,mp4,m4a,3gp,3g2,mj2, from '/Users/shenyicui/Documents/GitHub/reddit-auto-generate-story/output/APackageMarkedReturnToSender_1728664513477_1.mp4':\n",
      "  Metadata:\n",
      "    major_brand     : isom\n",
      "    minor_version   : 512\n",
      "    compatible_brands: isomiso2avc1mp41\n",
      "    encoder         : Lavf61.7.100\n",
      "  Duration: 00:02:39.07, start: 0.000000, bitrate: 8575 kb/s\n",
      "  Stream #0:0[0x1](eng): Video: h264 (High) (avc1 / 0x31637661), yuv420p(tv, bt709, progressive), 1216x2160 [SAR 1:1 DAR 76:135], 8429 kb/s, 30 fps, 30 tbr, 15360 tbn (default)\n",
      "      Metadata:\n",
      "        handler_name    : VideoHandler\n",
      "        vendor_id       : [0][0][0][0]\n",
      "        encoder         : Lavc61.19.100 libx264\n",
      "  Stream #0:1[0x2](und): Audio: aac (LC) (mp4a / 0x6134706D), 44100 Hz, stereo, fltp, 119 kb/s (default)\n",
      "      Metadata:\n",
      "        handler_name    : ISO Media file produced by Google Inc.\n",
      "        vendor_id       : [0][0][0][0]\n",
      "[Parsed_subtitles_0 @ 0x126e06da0] libass API version: 0x1703000\n",
      "[Parsed_subtitles_0 @ 0x126e06da0] libass source: tarball: 0.17.3\n",
      "[Parsed_subtitles_0 @ 0x126e06da0] Shaper: FriBidi 1.0.15 (SIMPLE) HarfBuzz-ng 10.0.1 (COMPLEX)\n",
      "[Parsed_subtitles_0 @ 0x126e06da0] Using font provider coretext\n",
      "Stream mapping:\n",
      "  Stream #0:0 -> #0:0 (h264 (native) -> h264 (libx264))\n",
      "  Stream #0:1 -> #0:1 (aac (native) -> aac (native))\n",
      "Press [q] to stop, [?] for help\n",
      "[Parsed_subtitles_0 @ 0x112005480] libass API version: 0x1703000\n",
      "[Parsed_subtitles_0 @ 0x112005480] libass source: tarball: 0.17.3\n",
      "[Parsed_subtitles_0 @ 0x112005480] Shaper: FriBidi 1.0.15 (SIMPLE) HarfBuzz-ng 10.0.1 (COMPLEX)\n",
      "[Parsed_subtitles_0 @ 0x112005480] Using font provider coretext\n",
      "[Parsed_subtitles_0 @ 0x112005480] fontselect: (Roboto, 400, 0) -> /Users/shenyicui/Library/Fonts/Roboto-Black.ttf, -1, Roboto-Black\n",
      "[libx264 @ 0x126e05f40] using SAR=1/1\n",
      "[libx264 @ 0x126e05f40] using cpu capabilities: ARMv8 NEON\n",
      "[libx264 @ 0x126e05f40] profile High, level 5.0, 4:2:0, 8-bit\n",
      "[libx264 @ 0x126e05f40] 264 - core 164 r3108 31e19f9 - H.264/MPEG-4 AVC codec - Copyleft 2003-2023 - http://www.videolan.org/x264.html - options: cabac=1 ref=3 deblock=1:0:0 analyse=0x3:0x113 me=hex subme=7 psy=1 psy_rd=1.00:0.00 mixed_ref=1 me_range=16 chroma_me=1 trellis=1 8x8dct=1 cqm=0 deadzone=21,11 fast_pskip=1 chroma_qp_offset=-2 threads=15 lookahead_threads=2 sliced_threads=0 nr=0 decimate=1 interlaced=0 bluray_compat=0 constrained_intra=0 bframes=3 b_pyramid=2 b_adapt=1 b_bias=0 direct=1 weightb=1 open_gop=0 weightp=2 keyint=250 keyint_min=25 scenecut=40 intra_refresh=0 rc_lookahead=40 rc=crf mbtree=1 crf=23.0 qcomp=0.60 qpmin=0 qpmax=69 qpstep=4 ip_ratio=1.40 aq=1:1.00\n",
      "Output #0, mp4, to '/Users/shenyicui/Documents/GitHub/reddit-auto-generate-story/output/APackageMarkedReturnToSender_1728664513477_1_temp.mp4':\n",
      "  Metadata:\n",
      "    major_brand     : isom\n",
      "    minor_version   : 512\n",
      "    compatible_brands: isomiso2avc1mp41\n",
      "    encoder         : Lavf61.7.100\n",
      "  Stream #0:0(eng): Video: h264 (avc1 / 0x31637661), yuv420p(tv, bt709, progressive), 1216x2160 [SAR 1:1 DAR 76:135], q=2-31, 30 fps, 15360 tbn (default)\n",
      "      Metadata:\n",
      "        handler_name    : VideoHandler\n",
      "        vendor_id       : [0][0][0][0]\n",
      "        encoder         : Lavc61.19.100 libx264\n",
      "      Side data:\n",
      "        cpb: bitrate max/min/avg: 0/0/0 buffer size: 0 vbv_delay: N/A\n",
      "  Stream #0:1(und): Audio: aac (LC) (mp4a / 0x6134706D), 44100 Hz, stereo, fltp, 128 kb/s (default)\n",
      "      Metadata:\n",
      "        handler_name    : ISO Media file produced by Google Inc.\n",
      "        vendor_id       : [0][0][0][0]\n",
      "        encoder         : Lavc61.19.100 aac\n",
      "[out#0/mp4 @ 0x126e05030] video:169407KiB audio:2359KiB subtitle:0KiB other streams:0KiB global headers:0KiB muxing overhead: 0.095937%\n",
      "frame= 4772 fps= 51 q=-1.0 Lsize=  171931KiB time=00:02:39.00 bitrate=8858.2kbits/s speed= 1.7x    \n",
      "[libx264 @ 0x126e05f40] frame I:27    Avg QP:20.82  size:128400\n",
      "[libx264 @ 0x126e05f40] frame P:2101  Avg QP:24.04  size: 48120\n",
      "[libx264 @ 0x126e05f40] frame B:2644  Avg QP:26.12  size: 26061\n",
      "[libx264 @ 0x126e05f40] consecutive B-frames: 16.7% 23.2% 15.5% 44.6%\n",
      "[libx264 @ 0x126e05f40] mb I  I16..4: 25.4% 47.6% 27.0%\n",
      "[libx264 @ 0x126e05f40] mb P  I16..4: 11.2% 19.8%  4.2%  P16..4: 29.7%  8.9%  3.5%  0.0%  0.0%    skip:22.8%\n",
      "[libx264 @ 0x126e05f40] mb B  I16..4:  4.0%  5.4%  1.4%  B16..8: 34.8%  7.6%  1.4%  direct: 3.0%  skip:42.5%  L0:54.5% L1:41.1% BI: 4.4%\n",
      "[libx264 @ 0x126e05f40] 8x8 transform intra:54.2% inter:67.2%\n",
      "[libx264 @ 0x126e05f40] coded y,uvDC,uvAC intra: 22.9% 48.7% 16.3% inter: 10.7% 19.0% 2.7%\n",
      "[libx264 @ 0x126e05f40] i16 v,h,dc,p: 34% 37%  9% 20%\n",
      "[libx264 @ 0x126e05f40] i8 v,h,dc,ddl,ddr,vr,hd,vl,hu: 32% 19% 34%  2%  2%  3%  2%  3%  2%\n",
      "[libx264 @ 0x126e05f40] i4 v,h,dc,ddl,ddr,vr,hd,vl,hu: 35% 22% 19%  4%  4%  6%  4%  5%  2%\n",
      "[libx264 @ 0x126e05f40] i8c dc,h,v,p: 50% 22% 23%  5%\n",
      "[libx264 @ 0x126e05f40] Weighted P-Frames: Y:0.0% UV:0.0%\n",
      "[libx264 @ 0x126e05f40] ref P L0: 59.2% 13.0% 18.5%  9.2%\n",
      "[libx264 @ 0x126e05f40] ref B L0: 80.7% 15.6%  3.7%\n",
      "[libx264 @ 0x126e05f40] ref B L1: 95.4%  4.6%\n",
      "[libx264 @ 0x126e05f40] kb/s:8724.51\n",
      "[aac @ 0x126e698c0] Qavg: 7270.063\n",
      "ffmpeg version 7.1 Copyright (c) 2000-2024 the FFmpeg developers\n",
      "  built with Apple clang version 15.0.0 (clang-1500.3.9.4)\n",
      "  configuration: --prefix=/opt/homebrew/Cellar/ffmpeg/7.1 --enable-shared --enable-pthreads --enable-version3 --cc=clang --host-cflags= --host-ldflags='-Wl,-ld_classic' --enable-ffplay --enable-gnutls --enable-gpl --enable-libaom --enable-libaribb24 --enable-libbluray --enable-libdav1d --enable-libharfbuzz --enable-libjxl --enable-libmp3lame --enable-libopus --enable-librav1e --enable-librist --enable-librubberband --enable-libsnappy --enable-libsrt --enable-libssh --enable-libsvtav1 --enable-libtesseract --enable-libtheora --enable-libvidstab --enable-libvmaf --enable-libvorbis --enable-libvpx --enable-libwebp --enable-libx264 --enable-libx265 --enable-libxml2 --enable-libxvid --enable-lzma --enable-libfontconfig --enable-libfreetype --enable-frei0r --enable-libass --enable-libopencore-amrnb --enable-libopencore-amrwb --enable-libopenjpeg --enable-libspeex --enable-libsoxr --enable-libzmq --enable-libzimg --disable-libjack --disable-indev=jack --enable-videotoolbox --enable-audiotoolbox --enable-neon\n",
      "  libavutil      59. 39.100 / 59. 39.100\n",
      "  libavcodec     61. 19.100 / 61. 19.100\n",
      "  libavformat    61.  7.100 / 61.  7.100\n",
      "  libavdevice    61.  3.100 / 61.  3.100\n",
      "  libavfilter    10.  4.100 / 10.  4.100\n",
      "  libswscale      8.  3.100 /  8.  3.100\n",
      "  libswresample   5.  3.100 /  5.  3.100\n",
      "  libpostproc    58.  3.100 / 58.  3.100\n",
      "Input #0, mov,mp4,m4a,3gp,3g2,mj2, from '/Users/shenyicui/Documents/GitHub/reddit-auto-generate-story/output/APackageMarkedReturnToSender_1728664513477_1.mp4':\n",
      "  Metadata:\n",
      "    major_brand     : isom\n",
      "    minor_version   : 512\n",
      "    compatible_brands: isomiso2avc1mp41\n",
      "    encoder         : Lavf61.7.100\n",
      "  Duration: 00:02:39.07, start: 0.000000, bitrate: 8854 kb/s\n",
      "  Stream #0:0[0x1](eng): Video: h264 (High) (avc1 / 0x31637661), yuv420p(tv, bt709, progressive), 1216x2160 [SAR 1:1 DAR 76:135], 8724 kb/s, 30 fps, 30 tbr, 15360 tbn (default)\n",
      "      Metadata:\n",
      "        handler_name    : VideoHandler\n",
      "        vendor_id       : [0][0][0][0]\n",
      "        encoder         : Lavc61.19.100 libx264\n",
      "  Stream #0:1[0x2](und): Audio: aac (LC) (mp4a / 0x6134706D), 44100 Hz, stereo, fltp, 121 kb/s (default)\n",
      "      Metadata:\n",
      "        handler_name    : ISO Media file produced by Google Inc.\n",
      "        vendor_id       : [0][0][0][0]\n",
      "Input #1, mp3, from '/Users/shenyicui/Documents/GitHub/reddit-auto-generate-story/audio-clips/APackageMarkedReturnToSender_1728664513477_1.mp3':\n",
      "  Metadata:\n",
      "    encoder         : Lavf61.7.100\n",
      "  Duration: 00:02:37.78, start: 0.046042, bitrate: 32 kb/s\n",
      "  Stream #1:0: Audio: mp3 (mp3float), 24000 Hz, mono, fltp, 32 kb/s\n",
      "Stream mapping:\n",
      "  Stream #0:0 -> #0:0 (copy)\n",
      "  Stream #1:0 -> #0:1 (copy)\n",
      "Output #0, mp4, to '/Users/shenyicui/Documents/GitHub/reddit-auto-generate-story/output/APackageMarkedReturnToSender_1728664513477_1_temp.mp4':\n",
      "  Metadata:\n",
      "    major_brand     : isom\n",
      "    minor_version   : 512\n",
      "    compatible_brands: isomiso2avc1mp41\n",
      "    encoder         : Lavf61.7.100\n",
      "  Stream #0:0(eng): Video: h264 (High) (avc1 / 0x31637661), yuv420p(tv, bt709, progressive), 1216x2160 [SAR 1:1 DAR 76:135], q=2-31, 8724 kb/s, 30 fps, 30 tbr, 15360 tbn (default)\n",
      "      Metadata:\n",
      "        handler_name    : VideoHandler\n",
      "        vendor_id       : [0][0][0][0]\n",
      "        encoder         : Lavc61.19.100 libx264\n",
      "  Stream #0:1: Audio: mp3 (mp4a / 0x6134706D), 24000 Hz, mono, fltp, 32 kb/s\n",
      "Press [q] to stop, [?] for help\n"
     ]
    },
    {
     "name": "stdout",
     "output_type": "stream",
     "text": [
      "Created /Users/shenyicui/Documents/GitHub/reddit-auto-generate-story/output/APackageMarkedReturnToSender_1728664513477_1.mp4\n"
     ]
    },
    {
     "name": "stderr",
     "output_type": "stream",
     "text": [
      "[out#0/mp4 @ 0x147004b70] video:167513KiB audio:616KiB subtitle:0KiB other streams:0KiB global headers:0KiB muxing overhead: 0.078301%\n",
      "frame= 4731 fps=0.0 q=-1.0 Lsize=  168261KiB time=00:02:37.66 bitrate=8742.5kbits/s speed=2.15e+03x    \n"
     ]
    },
    {
     "data": {
      "text/plain": [
       "CompletedProcess(args=['python3', '6_create-video.py'], returncode=0)"
      ]
     },
     "execution_count": 6,
     "metadata": {},
     "output_type": "execute_result"
    }
   ],
   "source": [
    "import shlex\n",
    "import subprocess\n",
    "\n",
    "command = shlex.split(\"python3 6_create-video.py\")\n",
    "subprocess.run(command)"
   ]
  }
 ],
 "metadata": {
  "kernelspec": {
   "display_name": "Python 3",
   "language": "python",
   "name": "python3"
  },
  "language_info": {
   "codemirror_mode": {
    "name": "ipython",
    "version": 3
   },
   "file_extension": ".py",
   "mimetype": "text/x-python",
   "name": "python",
   "nbconvert_exporter": "python",
   "pygments_lexer": "ipython3",
   "version": "3.9.12"
  }
 },
 "nbformat": 4,
 "nbformat_minor": 2
}
